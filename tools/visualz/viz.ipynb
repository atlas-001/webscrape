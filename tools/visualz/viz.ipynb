{
 "cells": [
  {
   "cell_type": "markdown",
   "metadata": {},
   "source": [
    "\n",
    "# Visualization"
   ]
  },
  {
   "cell_type": "code",
   "execution_count": 18,
   "metadata": {},
   "outputs": [],
   "source": [
    "#imports\n",
    "import matplotlib.pyplot as plt\n",
    "import os \n",
    "import json"
   ]
  },
  {
   "cell_type": "code",
   "execution_count": 26,
   "metadata": {},
   "outputs": [
    {
     "name": "stdout",
     "output_type": "stream",
     "text": [
      "\n",
      " /home/one/coding-projects/eye-of-cthulhu\n",
      "<class 'dict'>\n"
     ]
    }
   ],
   "source": [
    "#change dir to the 1 w/ wordcounts json\n",
    "os.chdir('/home/one/coding-projects/eye-of-cthulhu')\n",
    "check_dir = os.getcwd()\n",
    "print('\\n',check_dir)\n",
    "\n",
    "#get the file and reconstruct the dict\n",
    "wordcount = open('wordcount.txt','r')\n",
    "reed = wordcount.read()\n",
    "counts = json.loads(reed) #reconstruct the dictionary\n",
    "print(type(counts))"
   ]
  },
  {
   "cell_type": "code",
   "execution_count": 34,
   "metadata": {},
   "outputs": [
    {
     "ename": "TypeError",
     "evalue": "int() argument must be a string, a bytes-like object or a number, not 'dict_values'",
     "output_type": "error",
     "traceback": [
      "\u001b[0;31m---------------------------------------------------------------------------\u001b[0m",
      "\u001b[0;31mTypeError\u001b[0m                                 Traceback (most recent call last)",
      "\u001b[1;32m/home/one/coding-projects/eye-of-cthulhu/tools/visualz/viz.ipynb Cell 4'\u001b[0m in \u001b[0;36m<cell line: 4>\u001b[0;34m()\u001b[0m\n\u001b[1;32m      <a href='vscode-notebook-cell://ssh-remote%2B7b22686f73744e616d65223a22504f534549444f4e2d6c6f63616c227d/home/one/coding-projects/eye-of-cthulhu/tools/visualz/viz.ipynb#ch0000004vscode-remote?line=0'>1</a>\u001b[0m \u001b[39m#testing\u001b[39;00m\n\u001b[1;32m      <a href='vscode-notebook-cell://ssh-remote%2B7b22686f73744e616d65223a22504f534549444f4e2d6c6f63616c227d/home/one/coding-projects/eye-of-cthulhu/tools/visualz/viz.ipynb#ch0000004vscode-remote?line=1'>2</a>\u001b[0m \u001b[39m#.\u001b[39;00m\n\u001b[0;32m----> <a href='vscode-notebook-cell://ssh-remote%2B7b22686f73744e616d65223a22504f534549444f4e2d6c6f63616c227d/home/one/coding-projects/eye-of-cthulhu/tools/visualz/viz.ipynb#ch0000004vscode-remote?line=3'>4</a>\u001b[0m \u001b[39mprint\u001b[39m(counts\u001b[39m.\u001b[39mkeys(),\u001b[39mint\u001b[39;49m(counts\u001b[39m.\u001b[39;49mvalues()))\n",
      "\u001b[0;31mTypeError\u001b[0m: int() argument must be a string, a bytes-like object or a number, not 'dict_values'"
     ]
    }
   ],
   "source": [
    "#testing\n",
    "#.\n",
    "\n",
    "print(counts.keys(),int(counts.values()))\n",
    "\n",
    "\n",
    "#fig, ax = plt.subplots()\n",
    "#ax.plot(str(counts.keys()),int(counts.values()));"
   ]
  },
  {
   "cell_type": "code",
   "execution_count": null,
   "metadata": {},
   "outputs": [],
   "source": []
  },
  {
   "cell_type": "code",
   "execution_count": null,
   "metadata": {},
   "outputs": [],
   "source": []
  }
 ],
 "metadata": {
  "interpreter": {
   "hash": "916dbcbb3f70747c44a77c7bcd40155683ae19c65e1c03b4aa3499c5328201f1"
  },
  "kernelspec": {
   "display_name": "Python 3.8.10 64-bit",
   "language": "python",
   "name": "python3"
  },
  "language_info": {
   "codemirror_mode": {
    "name": "ipython",
    "version": 3
   },
   "file_extension": ".py",
   "mimetype": "text/x-python",
   "name": "python",
   "nbconvert_exporter": "python",
   "pygments_lexer": "ipython3",
   "version": "3.8.10"
  },
  "orig_nbformat": 4
 },
 "nbformat": 4,
 "nbformat_minor": 2
}
