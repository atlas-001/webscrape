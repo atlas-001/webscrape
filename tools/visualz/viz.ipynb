{
 "cells": [
  {
   "cell_type": "markdown",
   "metadata": {},
   "source": [
    "\n",
    "# Visualization"
   ]
  },
  {
   "cell_type": "code",
   "execution_count": 3,
   "metadata": {},
   "outputs": [],
   "source": [
    "#imports\n",
    "import matplotlib.pyplot as plt\n",
    "import os \n",
    "import json"
   ]
  },
  {
   "cell_type": "code",
   "execution_count": 4,
   "metadata": {},
   "outputs": [
    {
     "name": "stdout",
     "output_type": "stream",
     "text": [
      "\n",
      " /home/one/coding-projects/eye-of-cthulhu/scratch\n",
      "<class 'dict'>\n"
     ]
    }
   ],
   "source": [
    "#change dir to the 1 w/ wordcounts json\n",
    "os.chdir('/home/one/coding-projects/eye-of-cthulhu/scratch')\n",
    "check_dir = os.getcwd()\n",
    "print('\\n',check_dir)\n",
    "\n",
    "#get the file and reconstruct the dict\n",
    "wordcount = open('wordcount.txt','r')\n",
    "reed = wordcount.read()\n",
    "counts = json.loads(reed) #reconstruct the dictionary\n",
    "print(type(counts))"
   ]
  },
  {
   "cell_type": "code",
   "execution_count": 10,
   "metadata": {},
   "outputs": [
    {
     "name": "stdout",
     "output_type": "stream",
     "text": [
      "['solid', 'all', 'and', '0', '2', 'screen', 'Skip', 'to', 'in', 'News', 'Ukraine', 'US', 'defends', 'evacuating', 'embassy', 'as', 'urges', '13', 'soldiers', 'take', 'part', 'drills', 'near', 'Getty', 'have', 'taken', 'Secretary', 'of', 'State', 'Antony', 'has', 'said', 'the', 'threat', 'military', 'action', 'justifies', 'words', 'came', 'after', 'president', 'urged', 'saying', 'biggest', 'than', 'a', 'dozen', 'countries', 'their', 'citizens', 'leave', 'with', 'more', '100,000', 'troops', 'denied', 'it', 'plans', 'top', 'foreign', 'policy', 'Yuri', 'dismissed', 'an', 'reached', 'its', 'crisis', 'comes', 'eight', 'years', 'Russia', 'annexed', 'southern', 'Since', 'been', 'locked', 'war', 'rebels', 'eastern', 'areas', 'option', 'preparing', 'invade', 'ways', 'out', 'Joe', 'Biden', 'spoke', 'Ukrainian', 'President', 'on', 'phone.', 'The', 'two', 'leaders', 'importance', 'continuing', 'according', 'White', 'Mr', 'phone', 'call', 'Russian', 'Vladimir', 'Putin', 'when', 'he', 'warned', 'severe', 'if', 'sends', 'UK', 'Ben', 'Wallace', 'compared', 'recent', 'Western', 'stop', 'invasion', 'appeasement', 'Nazi', 'Sunday', 'newspaper', 'whiff', 'Munich', 'reference', 'agreement', 'Hitler', 'prevent', 'World', 'War', 'ambassador', 'however', 'not', 'best', 'time', 'for', 'us', 'offend', 'our', 'partners', 'this', 'act', 'which', 'actually', 'told', 'BBC', 'Radio', 'House', 'prudent', 'thing', 'Germany', 'are', 'among', 'several', 'who', 'get', 'decision', 'evacuate', 'most', 'staff', 'was', 'followed', 'moves', 'by', 'Canada', 'Australia.', 'All', 'three', 'nations', 'instead', 'western', 'city', 'Polish', 'although', 'she', 'will', 'stay', 'capital', 'risk', 'enough', 'imminent', 'that', 'evacuation', 'earlier', 'had', 'enemy', 'is', 'powers', 'any', 'firm', 'evidence', 'yet', 'see', 'unifies', 'against', 'threats', 'famine', 'memories', 'fuel', 'resentment', 'says', 'there', 'no', 'major', 'signs', 'panic', 'cities.', 'added', 'Ukrainians', 'from', 'increasingly', 'seriously', 'taking', 'emergency', 'plan', 'million', 'residents', 'office', 'could', 'happen', 'at', 'begin', 'bombing', 'airline', 'announced', 'would', 'indefinitely', 'halt', 'flights', 'tensions.', 'flown', 'over', 'parts', 'Crimea', 'since', '2014.', 'German', 'carrier', 'Lufthansa', 'adviser', 'chief', 'Reuters', 'country', 'closing', 'calling', 'later', 'head', 'air', 'traffic', 'control', 'advised', 'avoid', 'Sea', 'where', 'forces', 'holding', 'largest', 'naval', 'between', '14-19', 'stressed', 'airspace', 'currently', 'open', 'flight', 'steadily', 'increased', 'continued', 'deploy', 'Kremlin', 'cannot', 'accept', 'former', 'Soviet', 'republic', 'social', 'cultural', 'ties', 'one', 'day', 'join', 'alliance', 'demanded', 'be', 'ruled', 'rejected', 'sovereign', 'nation', 'should', 'decide', 'own', 'security', 'video', 'can', 'To', 'play', 'you', 'need', 'enable', 'JavaScript', 'your', 'staying', 'Watch', 'citizen', 'English', 'teacher', 'Juan', 'More', 'attack', 'highly', 'likely', 'civilians', 'learn', 'tell', '12', 'rally', 'behind', 'vehicle', 'firing', 'mounted', 'gun', 'during', 'tells', 'nationals', 'Armed', 'Forces', 'hold', 'drill', 'shooting', 'range', '92nd', 'brigade', 'accuses', 'sea', '10', 'navy', 'ship', 'pledges', 'new', 'escalation', '9', 'soldier', 'very', 'high', 'PM', 'Military', 'standing', 'guard', 'destroyed', 'industrial', 'zone', 'Related', 'Top', 'hit', 'training', 'site', 'west', 'offers', 'month', 'refugee', '33', 'minutes', 'investigated', '8', 'hours', 'sanctions', 'changed', 'everyday', 'life', 'employee', 'food', 'delivery', 'service', 'seen', 'faces', 'brain', 'drain', 'thousands', 'flee', 'they', 'wait', 'taxi', 'airport', 'upon', 'arrival', 'wants', 'teenage', 'kindness', 'saved', 'my', 'pigs', 'future', 'organ', 'back', 'first', 'sex', 'worker', 'strike.', 'group', 'women', 'pictures', 'theme', 'view', 'pedestrians', 'graffiti', 'Indian', 'became', 'YouTube', 'researchers', 'really', 'found', 'Holy', 'Elsewhere', 'witch', 'failing', 'his', 'suspect', 'find', 'themselves', 'hellish', 'Mystery', 'Anthrax', 'astonishing', 'story', 'deadly', 'biological', 'island', 'relax', 'enjoy', 'something', 'everyone', 'Most', '1.', '2.', '3.', '4.', 'execute', '81', 'men', '5.', '6.', 'happened', '17', 'Russia-Ukraine', '7.', '8.', 'prepare', 'return', 'in-person', '9.', 'Russians', '10.', 'mercenaries', 'being', 'recruited', 'smart', 'news', 'trust', 'Do', 'Not', 'Sell', 'My', '2022', 'BBC.', 'responsible', 'content', 'external', 'about', 'approach'] [10, 2, 24, 36, 2, 1, 1, 31, 23, 2, 14, 6, 1, 2, 3, 7, 1, 2, 2, 2, 2, 3, 6, 1, 8, 2, 2, 36, 1, 1, 13, 5, 44, 2, 4, 2, 1, 1, 2, 4, 1, 4, 3, 2, 2, 20, 2, 2, 4, 1, 3, 7, 1, 1, 1, 1, 4, 1, 1, 1, 1, 1, 1, 6, 1, 5, 1, 1, 1, 1, 7, 1, 1, 1, 2, 1, 1, 1, 3, 1, 1, 1, 1, 1, 2, 1, 1, 1, 9, 3, 13, 1, 3, 1, 1, 1, 1, 1, 2, 2, 1, 1, 2, 1, 1, 1, 4, 2, 1, 2, 1, 2, 1, 2, 1, 1, 2, 1, 2, 1, 1, 2, 1, 1, 1, 1, 1, 1, 1, 1, 1, 2, 2, 4, 1, 1, 7, 1, 1, 2, 1, 4, 1, 1, 1, 2, 5, 1, 2, 2, 2, 1, 7, 1, 1, 1, 1, 1, 1, 1, 2, 3, 1, 1, 3, 1, 1, 1, 2, 2, 1, 1, 3, 1, 1, 3, 1, 1, 1, 1, 1, 1, 8, 2, 1, 3, 1, 5, 1, 2, 1, 1, 1, 1, 1, 1, 1, 1, 1, 1, 1, 2, 1, 3, 2, 1, 1, 1, 1, 3, 2, 1, 1, 1, 1, 1, 1, 1, 1, 2, 1, 6, 1, 1, 2, 1, 1, 1, 1, 1, 1, 1, 5, 1, 1, 1, 1, 1, 1, 1, 1, 1, 1, 1, 1, 1, 1, 1, 1, 2, 1, 1, 1, 1, 1, 1, 1, 1, 1, 1, 1, 1, 1, 1, 1, 1, 1, 1, 1, 1, 1, 1, 1, 1, 1, 1, 1, 1, 1, 4, 2, 1, 1, 1, 2, 1, 1, 1, 1, 1, 1, 1, 1, 2, 2, 1, 1, 2, 1, 1, 1, 2, 1, 1, 1, 1, 1, 1, 1, 1, 1, 1, 1, 1, 1, 2, 1, 1, 1, 1, 1, 1, 1, 1, 1, 2, 3, 1, 1, 1, 1, 1, 1, 1, 1, 2, 1, 1, 1, 1, 1, 1, 1, 1, 1, 1, 1, 1, 1, 1, 1, 1, 1, 1, 1, 1, 1, 1, 1, 1, 1, 1, 1, 2, 1, 1, 2, 2, 2, 2, 1, 1, 1, 1, 1, 2, 2, 2, 2, 2, 1, 1, 1, 1, 1, 1, 2, 2, 2, 2, 2, 1, 1, 1, 2, 1, 1, 2, 1, 1, 1, 1, 1, 1, 1, 1, 1, 1, 1, 1, 1, 1, 1, 1, 1, 1, 1, 1, 1, 1, 1, 1, 1, 1, 1, 1, 1, 1, 1, 1, 1, 1, 1, 1, 1, 1, 1, 1, 1, 1, 1, 1, 1, 1, 1, 1, 1, 1, 1, 1, 1, 1, 1, 1, 1, 1, 1, 1, 1, 1, 1, 1, 1, 1, 1, 1, 1, 1, 1, 1]\n"
     ]
    }
   ],
   "source": [
    "#testing\n",
    "#.\n",
    "_count_keys = counts.keys()\n",
    "_count_values = counts.values()\n",
    "#print(_count_keys,_count_values)\n",
    "_count_keys = list(_count_keys)\n",
    "_count_values = list(_count_values)\n",
    "\n",
    "\n",
    "#fig, ax = plt.subplots()\n",
    "#ax.plot(str(counts.keys()),int(counts.values()));"
   ]
  },
  {
   "cell_type": "code",
   "execution_count": 11,
   "metadata": {},
   "outputs": [
    {
     "data": {
      "image/png": "[encoded data removed]",
      "text/plain": [
       "<Figure size 432x288 with 1 Axes>"
      ]
     },
     "metadata": {
      "needs_background": "light"
     },
     "output_type": "display_data"
    }
   ],
   "source": [
    "plt.plot(_count_keys,_count_values)\n",
    "plt.title('key vals')\n",
    "plt.ylabel('wordcount')\n",
    "plt.xlabel('words')\n",
    "plt.legend(['blah', 'lalala'], loc='upper left')\n",
    "plt.savefig('black')"
   ]
  },
  {
   "cell_type": "code",
   "execution_count": null,
   "metadata": {},
   "outputs": [],
   "source": []
  }
 ],
 "metadata": {
  "interpreter": {
   "hash": "916dbcbb3f70747c44a77c7bcd40155683ae19c65e1c03b4aa3499c5328201f1"
  },
  "kernelspec": {
   "display_name": "Python 3.8.10 64-bit",
   "language": "python",
   "name": "python3"
  },
  "language_info": {
   "codemirror_mode": {
    "name": "ipython",
    "version": 3
   },
   "file_extension": ".py",
   "mimetype": "text/x-python",
   "name": "python",
   "nbconvert_exporter": "python",
   "pygments_lexer": "ipython3",
   "version": "3.8.10"
  },
  "orig_nbformat": 4
 },
 "nbformat": 4,
 "nbformat_minor": 2
}
